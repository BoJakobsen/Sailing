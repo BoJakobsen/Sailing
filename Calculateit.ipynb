{
 "cells": [
  {
   "cell_type": "code",
   "execution_count": null,
   "metadata": {},
   "outputs": [],
   "source": [
    "from math import radians, degrees\n",
    "import numpy as np\n",
    "import matplotlib.pyplot as plt\n",
    "from scipy.optimize import fsolve"
   ]
  },
  {
   "cell_type": "code",
   "execution_count": null,
   "metadata": {},
   "outputs": [],
   "source": [
    "# theta er defineret i forhold til nord, dette er altså ikke standard deff af tranformationen.\n",
    "\n",
    "def to_cartesian(theta , r):\n",
    "    y=np.cos(radians(theta))*r\n",
    "    x=np.sin(radians(theta))*r\n",
    "    return x,y\n",
    "\n",
    "def to_polar(x,y):\n",
    "    r = np.sqrt(x*x + y*y)\n",
    "    theta = degrees(np.arctan2(x, y))\n",
    "    if theta<0 :\n",
    "        theta=theta+360\n",
    "    return theta, r"
   ]
  },
  {
   "cell_type": "code",
   "execution_count": null,
   "metadata": {},
   "outputs": [],
   "source": [
    "# test transformationerne\n",
    "x,y = to_cartesian(270+45,1)\n",
    "print(x,y)\n",
    "theta,r= to_polar(x,y)\n",
    "print(theta, r)"
   ]
  },
  {
   "cell_type": "code",
   "execution_count": null,
   "metadata": {},
   "outputs": [],
   "source": [
    "# beregn sejlet fart og sejlet kurs ud fra beholden kurs og fart samt strøm\n",
    "\n",
    "beh_kurs=45\n",
    "beh_fart=5\n",
    "\n",
    "stroem_retning=0\n",
    "stroem_fart=1\n",
    "\n",
    "x1,y1=to_cartesian(beh_kurs,beh_fart)\n",
    "x2,y2=to_cartesian(stroem_retning,stroem_fart)\n",
    "sejlet_kurs, sejlet_fart = to_polar(x1-x2,y1-y2)\n",
    "print('sejlet kurs:' , sejlet_kurs, 'sejlet fart', sejlet_fart)\n",
    "print('Sætning:', sejlet_kurs - beh_kurs )\n",
    "print('Fartændring:', sejlet_fart - beh_fart )\n",
    "\n",
    "plt.clf()\n",
    "sp = plt.subplot(1, 1, 1, projection='polar')\n",
    "sp.set_theta_zero_location('N')\n",
    "sp.set_theta_direction(-1)\n",
    "plt.plot([0, radians(beh_kurs)], [0, beh_fart],c='blue',label='Beholden kurs og fart')\n",
    "plt.plot([0, radians(sejlet_kurs)], [0, sejlet_fart],c='red',label='Sejlet kurs og fart')\n",
    "plt.plot([0, radians(stroem_retning)], [0, stroem_fart],c='green',label='Strøm')\n",
    "sp.legend(loc='lower center')\n",
    "plt.show()"
   ]
  },
  {
   "cell_type": "code",
   "execution_count": null,
   "metadata": {},
   "outputs": [],
   "source": [
    "# beregn beholden fart og kurs fra sejlet kurs og fart samt strøm\n",
    "\n",
    "sejlet_kurs=45\n",
    "sejlet_fart=5\n",
    "\n",
    "stroem_retning=45\n",
    "stroem_fart=1\n",
    "\n",
    "x1,y1=to_cartesian(sejlet_kurs,sejlet_fart)\n",
    "x2,y2=to_cartesian(stroem_retning,stroem_fart)\n",
    "beh_kurs, beh_fart = to_polar(x1+x2,y1+y2)\n",
    "print('beholden kurs:' , beh_kurs, 'beholden fart', beh_fart)\n",
    "print('Sætning:', sejlet_kurs - beh_kurs )\n",
    "print('Fartændring:', sejlet_fart - beh_fart )\n",
    "\n",
    "plt.clf()\n",
    "sp = plt.subplot(1, 1, 1, projection='polar')\n",
    "sp.set_theta_zero_location('N')\n",
    "sp.set_theta_direction(-1)\n",
    "plt.plot([0, radians(beh_kurs)], [0, beh_fart],c='blue',label='Beholden kurs og fart')\n",
    "plt.plot([0, radians(sejlet_kurs)], [0, sejlet_fart],c='red',label='Sejlet kurs og fart')\n",
    "plt.plot([0, radians(stroem_retning)], [0, stroem_fart],c='green',label='Strøm')\n",
    "sp.legend(loc='lower center')\n",
    "plt.show()\n"
   ]
  },
  {
   "cell_type": "code",
   "execution_count": null,
   "metadata": {},
   "outputs": [],
   "source": [
    "# Beregn beholden fart og sejlet kurs fra sejlet fart og beholden kurs \n",
    "# \n",
    "# Det er et grimt ikke-lineært problem, så det må løses numerisk\n",
    "\n",
    "sejlet_fart=5\n",
    "#sejlet_kurs = ??\n",
    "\n",
    "beh_kurs=45\n",
    "#beholden_fart= ??\n",
    "\n",
    "stroem_retning=0\n",
    "stroem_fart=1\n",
    "\n",
    "\n",
    "def eq(p, p1):\n",
    "    sejlet_kurs, beh_fart = p\n",
    "    sejlet_fart, beh_kurs, stroem_retning, stroem_fart = p1    \n",
    "    \n",
    "    x1,y1=to_cartesian(beh_kurs,beh_fart)\n",
    "    x2,y2=to_cartesian(stroem_retning,stroem_fart)\n",
    "    sejlet_kurs_gaet, sejlet_fart_gaet = to_polar(x1-x2,y1-y2)\n",
    "    return(sejlet_kurs_gaet-sejlet_kurs, sejlet_fart_gaet-sejlet_fart)\n",
    "\n",
    "sejlet_kurs ,beh_fart =  fsolve(eq, (beholden_kurs, sejlet_fart), args=[sejlet_fart, beh_kurs,stroem_retning, stroem_fart])\n",
    "\n",
    "print('sejlet kurs: ', sejlet_kurs, ', beholden_fart: ',  beh_fart)\n",
    "\n",
    "print('Sætning:', sejlet_kurs - beh_kurs )\n",
    "print('Fartændring:', sejlet_fart - beh_fart )\n",
    "\n",
    "plt.clf()\n",
    "sp = plt.subplot(1, 1, 1, projection='polar')\n",
    "sp.set_theta_zero_location('N')\n",
    "sp.set_theta_direction(-1)\n",
    "plt.plot([0, radians(beh_kurs)], [0, beh_fart],c='blue',label='Beholden kurs og fart')\n",
    "plt.plot([0, radians(sejlet_kurs)], [0, sejlet_fart],c='red',label='Sejlet kurs og fart')\n",
    "plt.plot([0, radians(stroem_retning)], [0, stroem_fart],c='green',label='Strøm')\n",
    "sp.legend(loc='lower center')\n",
    "plt.show()\n"
   ]
  },
  {
   "cell_type": "code",
   "execution_count": null,
   "metadata": {},
   "outputs": [],
   "source": [
    "#Plot examples from:\n",
    "# https://stackoverflow.com/questions/2417794/how-to-make-the-angles-in-a-matplotlib-polar-plot-go-clockwise-with-0-at-the-to\n",
    "\n",
    "#Fit example from:\n",
    "# https://stackoverflow.com/questions/8739227/how-to-solve-a-pair-of-nonlinear-equations-using-python\n",
    "# https://docs.scipy.org/doc/scipy/reference/generated/scipy.optimize.fsolve.html#scipy.optimize.fsolve\n"
   ]
  }
 ],
 "metadata": {
  "kernelspec": {
   "display_name": "Python 3",
   "language": "python",
   "name": "python3"
  },
  "language_info": {
   "codemirror_mode": {
    "name": "ipython",
    "version": 3
   },
   "file_extension": ".py",
   "mimetype": "text/x-python",
   "name": "python",
   "nbconvert_exporter": "python",
   "pygments_lexer": "ipython3",
   "version": "3.8.5"
  }
 },
 "nbformat": 4,
 "nbformat_minor": 4
}
